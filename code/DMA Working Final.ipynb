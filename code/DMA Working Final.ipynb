{
 "cells": [
  {
   "cell_type": "markdown",
   "metadata": {},
   "source": [
    "# Writing an Algorithm that Uses DMAC Trading\n",
    "\n",
    "## Data Loading"
   ]
  },
  {
   "cell_type": "code",
   "execution_count": null,
   "metadata": {},
   "outputs": [],
   "source": [
    "# Initial imports\n",
    "import numpy as np\n",
    "import os\n",
    "import csv\n",
    "import requests\n",
    "import pandas as pd\n",
    "from dotenv import load_dotenv\n",
    "import alpaca_trade_api as tradeapi\n",
    "from MCForecastTools import MCSimulation\n",
    "import numpy as np\n",
    "import matplotlib.pyplot as plt\n",
    "import seaborn\n",
    "import warnings\n",
    "from pathlib import Path\n",
    "import datetime as dt\n",
    "\n",
    "#Subsequent imports\n",
    "import matplotlib.pyplot as plt\n",
    "import seaborn as sns\n",
    "import yfinance as yf\n",
    "import hvplot.pandas\n",
    "\n",
    "# Enable the Matplotlib property to allow diagrams to display in Jupyter Notebook\n",
    "%matplotlib inline"
   ]
  },
  {
   "cell_type": "code",
   "execution_count": null,
   "metadata": {},
   "outputs": [],
   "source": [
    "pip install alpaca-trade-api"
   ]
  },
  {
   "cell_type": "code",
   "execution_count": null,
   "metadata": {},
   "outputs": [],
   "source": [
    "pip install yfinance"
   ]
  },
  {
   "cell_type": "code",
   "execution_count": null,
   "metadata": {},
   "outputs": [],
   "source": [
    "# List the ticker symbols for the stocks of interest\n",
    "lst=['BMO.TO', 'BNS.TO', 'CM.TO', 'NA.TO','RY.TO', 'TD.TO', 'ZEB.TO','ZWB.TO', 'XGB.TO', 'CL' ]\n",
    "\n",
    "# Determine the start and end dates\n",
    "start_date = '2022-01-01'\n",
    "end_date = '2022-11-30'\n",
    "\n",
    "# Create empty dataframe to hold stock data\n",
    "dfAllStocks_Yahoo=pd.DataFrame()\n",
    "\n",
    "# Gathers stock data from listed tickers and combines them into a dataframe\n",
    "for ticker in lst:\n",
    "    # Create data frame from API in loop \n",
    "    df= yf.download(ticker, start= start_date, end= end_date)\n",
    "    # Remove to '.TO' suffix from Canadian stocks\n",
    "    tic= ticker.replace('.TO','')\n",
    "    df['Ticker']=tic\n",
    "    # Drop unwanted coloumns - Keep Adjusted Close\n",
    "    df.drop(columns= [\"Open\", \"High\", \"Low\", \"Volume\", \"Close\", \"Ticker\"], inplace= True)\n",
    "    # Combine individual stocks into a single data frame\n",
    "    dfAllStocks_Yahoo=pd.concat([dfAllStocks_Yahoo, df], axis= 1)\n",
    "    \n",
    "  # Rename the coloumns to the ticker symbols in the list\n",
    "dfAllStocks_Yahoo.columns = lst\n",
    "dfAllStocks_Yahoo.index.name = 'Date'\n",
    "\n",
    "# Drop the N/As\n",
    "dfAllStocks_Yahoo = dfAllStocks_Yahoo.dropna()\n",
    "\n",
    "# Drop the time component of the date\n",
    "dfAllStocks_Yahoo.index = dfAllStocks_Yahoo.index.date\n",
    "\n",
    "# Drop the time component of the date\n",
    "#dfAllStocks_Yahoo.index = dfAllStocks_Yahoo.index.date\n",
    "\n",
    "# Display the data\n",
    "display(dfAllStocks_Yahoo)"
   ]
  },
  {
   "cell_type": "code",
   "execution_count": null,
   "metadata": {},
   "outputs": [],
   "source": [
    "# Filter the date index and close columns\n",
    "signals_df = dfAllStocks_Yahoo.loc[:,[\"BNS.TO\"]]\n",
    "\n",
    "# Review the DataFrame\n",
    "signals_df.head()"
   ]
  },
  {
   "cell_type": "code",
   "execution_count": null,
   "metadata": {
    "tags": []
   },
   "outputs": [],
   "source": [
    "# Use hvplot to visualize the data\n",
    "signals_df.hvplot()"
   ]
  },
  {
   "cell_type": "markdown",
   "metadata": {},
   "source": [
    "## SMA for the Short and Long Windows Calculation"
   ]
  },
  {
   "cell_type": "code",
   "execution_count": null,
   "metadata": {
    "tags": []
   },
   "outputs": [],
   "source": [
    " # Set the variables for short window and long window periods via the for loop below to determine the maximum cumulative return amount \n",
    "    \n",
    "dctStats={'ShortMA':[],'LongMA':[],'CumRtn':[]}\n",
    "\n",
    "for long in range(1,100,1):   \n",
    "    for short in range(1,100,1):\n",
    "        short_window = short\n",
    "        long_window = long\n",
    "        \n",
    "        print('------------------ The short MA is '+str(short_window) +', the long window is '+str(long))\n",
    "        \n",
    "        # Generate the short and long window simple moving averages (starting at 1 thru 100, at 1 day increments for each curve at a time)\n",
    "        signals_df[\"SMAShort\"] = signals_df[\"BNS.TO\"].rolling(window=short_window).mean()\n",
    "        signals_df[\"SMALong\"] = signals_df[\"BNS.TO\"].rolling(window=long_window).mean()\n",
    "\n",
    "        # Review the DataFrame\n",
    "        #display(signals_df.head())\n",
    "        #display(signals_df.tail())\n",
    "\n",
    "        # Create a column to hold the trading signal\n",
    "        signals_df[\"Signal\"] = 0.0\n",
    "\n",
    "        # Generate the trading signal 0 or 1,\n",
    "        # where 1 is the short-window (SMA50) greater than the long-window (SMA100)\n",
    "        # and 0 is when the condition is not met\n",
    "        signals_df[\"Signal\"][short_window:] = np.where(\n",
    "            signals_df[\"SMAShort\"][short_window:] > signals_df[\"SMALong\"][short_window:], 1.0, 0.0)\n",
    "        \n",
    "        # Set initial capital\n",
    "        initial_capital = float(100000)\n",
    "\n",
    "        # Set the share size\n",
    "        share_size = 500\n",
    "\n",
    "        # Buy a 500 share position when the dual moving average crossover Signal equals 1\n",
    "        # Otherwise, `Position` should be zero (sell)\n",
    "        signals_df['Position'] = share_size * signals_df['Signal']\n",
    "        \n",
    "        #display(signals_df)\n",
    "\n",
    "        # Determine the points in time where a 500 share position is bought or sold\n",
    "        signals_df['Entry/Exit Position'] = signals_df['Position'].diff()\n",
    "\n",
    "        # Multiply the close price by the number of shares held, or the Position\n",
    "        signals_df['Portfolio Holdings'] = signals_df['BNS.TO'] * signals_df['Position']\n",
    "\n",
    "        # Subtract the amount of either the cost or proceeds of the trade from the initial capital invested\n",
    "        signals_df['Portfolio Cash'] = initial_capital - (signals_df['BNS.TO'] * signals_df['Entry/Exit Position']).cumsum()\n",
    "\n",
    "        # Calculate the total portfolio value by adding the portfolio cash to the portfolio holdings (or investments)\n",
    "        signals_df['Portfolio Total'] = signals_df['Portfolio Cash'] + signals_df['Portfolio Holdings']\n",
    "\n",
    "        # Calculate the portfolio daily returns\n",
    "        signals_df['Portfolio Daily Returns'] = signals_df['Portfolio Total'].pct_change()\n",
    "\n",
    "        # Calculate the portfolio cumulative returns\n",
    "        signals_df['Portfolio Cumulative Returns'] = (1 + signals_df['Portfolio Daily Returns']).cumprod() - 1\n",
    "        \n",
    "        dctStats['ShortMA'].append(short_window)\n",
    "        dctStats['LongMA'].append(long_window)\n",
    "        dctStats['CumRtn'].append(signals_df['Portfolio Cumulative Returns'][-1])\n",
    "        \n",
    "        #display(signals_df)\n",
    "        print(signals_df['Portfolio Cumulative Returns'][-1])\n",
    "                \n",
    "dfStats=pd.DataFrame(dctStats)\n",
    "\n",
    "dfStats=dfStats.sort_values(['CumRtn'], ascending=False)\n",
    "\n",
    "display(dfStats)\n",
    "        "
   ]
  },
  {
   "cell_type": "markdown",
   "metadata": {},
   "source": [
    "## Cumulative Returns"
   ]
  },
  {
   "cell_type": "code",
   "execution_count": null,
   "metadata": {},
   "outputs": [],
   "source": [
    "# Calculate cumulative returns\n",
    "portfolio_evaluation_df.loc[\"Cumulative Returns\"] = signals_df[\"Portfolio Cumulative Returns\"][-1]\n",
    "\n",
    "# Review the result\n",
    "portfolio_evaluation_df"
   ]
  },
  {
   "cell_type": "code",
   "execution_count": null,
   "metadata": {},
   "outputs": [],
   "source": [
    "## Annual Volatility"
   ]
  },
  {
   "cell_type": "code",
   "execution_count": null,
   "metadata": {},
   "outputs": [],
   "source": [
    "# Calculate annual volatility\n",
    "portfolio_evaluation_df.loc[\"Annual Volatility\"] = (\n",
    "    signals_df[\"Portfolio Daily Returns\"].std() * np.sqrt(252)\n",
    ")\n",
    "\n",
    "# Review the result\n",
    "portfolio_evaluation_df\n",
    "                            "
   ]
  },
  {
   "cell_type": "code",
   "execution_count": null,
   "metadata": {},
   "outputs": [],
   "source": [
    "## Sharpe Ratio"
   ]
  },
  {
   "cell_type": "code",
   "execution_count": null,
   "metadata": {},
   "outputs": [],
   "source": [
    "# Calculate Sharpe Ratio\n",
    "portfolio_evaluation_df.loc[\"Sharpe Ratio\"] = (\n",
    "    signals_df[\"Portfolio Daily Returns\"].mean() * 252) / (\n",
    "    signals_df[\"Portfolio Daily Returns\"].std() * np.sqrt(252)\n",
    ")\n",
    "\n",
    "# Review the result\n",
    "portfolio_evaluation_df"
   ]
  },
  {
   "cell_type": "code",
   "execution_count": null,
   "metadata": {},
   "outputs": [],
   "source": [
    "## Sortino Ratio"
   ]
  },
  {
   "cell_type": "code",
   "execution_count": null,
   "metadata": {},
   "outputs": [],
   "source": [
    "# Calculate downside return values"
   ]
  },
  {
   "cell_type": "code",
   "execution_count": null,
   "metadata": {},
   "outputs": [],
   "source": [
    "# Create a DataFrame that contains the Portfolio Daily Returns column\n",
    "sortino_ratio_df = signals_df[[\"Portfolio Daily Returns\"]].copy()\n",
    "\n",
    "# Create a column to hold downside return values\n",
    "sortino_ratio_df.loc[:,\"Downside Returns\"] = 0\n",
    "\n",
    "# Find Portfolio Daily Returns values less than 0,\n",
    "# square those values, and add them to the Downside Returns column\n",
    "sortino_ratio_df.loc[sortino_ratio_df[\"Portfolio Daily Returns\"] < 0,\n",
    "                     \"Downside Returns\"] = sortino_ratio_df[\"Portfolio Daily Returns\"]**2\n",
    "\n",
    "# Review the DataFrame\n",
    "sortino_ratio_df.tail()"
   ]
  },
  {
   "cell_type": "code",
   "execution_count": null,
   "metadata": {},
   "outputs": [],
   "source": [
    "# Calculate the Sortino Ratio"
   ]
  },
  {
   "cell_type": "code",
   "execution_count": null,
   "metadata": {},
   "outputs": [],
   "source": [
    "# Calculate the annualized return value\n",
    "annualized_return = (\n",
    "    sortino_ratio_df[\"Portfolio Daily Returns\"].mean() * 252\n",
    ")\n",
    "\n",
    "# Print the result\n",
    "print(f\"Annualized Return: {annualized_return}\")"
   ]
  },
  {
   "cell_type": "code",
   "execution_count": null,
   "metadata": {},
   "outputs": [],
   "source": [
    "# Calculate the annualized downside standard deviation value\n",
    "downside_standard_deviation = (\n",
    "    np.sqrt(sortino_ratio_df[\"Downside Returns\"].mean()) * np.sqrt(252)\n",
    ")\n",
    "\n",
    "# Print the result\n",
    "print(f\"Annualized Downside STD: {downside_standard_deviation}\")"
   ]
  },
  {
   "cell_type": "code",
   "execution_count": null,
   "metadata": {},
   "outputs": [],
   "source": [
    "# The Sortino ratio is reached by dividing the annualized return value\n",
    "# by the downside standard deviation value\n",
    "sortino_ratio = annualized_return/downside_standard_deviation\n",
    "\n",
    "# Add the Sortino ratio to the evaluation DataFrame\n",
    "portfolio_evaluation_df.loc[\"Sortino Ratio\"] = sortino_ratio\n",
    "\n",
    "# Review the DataFrame\n",
    "portfolio_evaluation_df"
   ]
  },
  {
   "cell_type": "code",
   "execution_count": null,
   "metadata": {},
   "outputs": [],
   "source": [
    "## Set Up the Trade-Level Risk/Reward Evaluation Metrics"
   ]
  },
  {
   "cell_type": "code",
   "execution_count": null,
   "metadata": {},
   "outputs": [],
   "source": [
    "'''# Initialize trade evaluation DataFrame with columns\n",
    "trade_evaluation_df = pd.DataFrame(\n",
    "    columns=[\n",
    "        \"Stock\",\n",
    "        \"Entry Date\",\n",
    "        \"Exit Date\",\n",
    "        \"Shares\",\n",
    "        \"Entry Share Price\",\n",
    "        \"Exit Share Price\",\n",
    "        \"Entry Portfolio Holding\",\n",
    "        \"Exit Portfolio Holding\",\n",
    "        \"Profit/Loss\"]\n",
    ")'''"
   ]
  },
  {
   "cell_type": "code",
   "execution_count": null,
   "metadata": {},
   "outputs": [],
   "source": [
    "'''# Loop through signal DataFrame\n",
    "# If `Entry/Exit` is 1, set entry trade metrics\n",
    "# Else if `Entry/Exit` is -1, set exit trade metrics and calculate profit\n",
    "# Then append the record to the trade evaluation DataFrame\n",
    "for index, row in signals_df.iterrows():\n",
    "    #display(signals_df).head(500)\n",
    "    if row[\"Entry/Exit\"] == 1:\n",
    "        entry_date = index\n",
    "        entry_portfolio_holding = row[\"Portfolio Holdings\"]\n",
    "        #print(entry_portfolio_holding)\n",
    "        share_size = row[\"Entry/Exit Position\"]\n",
    "        entry_share_price = row[\"BNS.TO\"]\n",
    "\n",
    "    elif row[\"Entry/Exit\"] == -1:\n",
    "        exit_date = index\n",
    "        exit_portfolio_holding = abs(row[\"BNS.TO\"] * row[\"Entry/Exit Position\"])\n",
    "        exit_share_price = row[\"BNS.TO\"]\n",
    "        profit_loss = exit_portfolio_holding - entry_portfolio_holding\n",
    "        trade_evaluation_df = trade_evaluation_df.append(\n",
    "            {\n",
    "                \"Stock\": \"AAPL\",\n",
    "                \"Entry Date\": entry_date,\n",
    "                \"Exit Date\": exit_date,\n",
    "                \"Shares\": share_size,\n",
    "                \"Entry Share Price\": entry_share_price,\n",
    "                \"Exit Share Price\": exit_share_price,\n",
    "                \"Entry Portfolio Holding\": entry_portfolio_holding,\n",
    "                \"Exit Portfolio Holding\": exit_portfolio_holding,\n",
    "                \"Profit/Loss\": profit_loss\n",
    "            },\n",
    "            ignore_index=True)\n",
    "\n",
    "# Print the DataFrame\n",
    "trade_evaluation_df'''"
   ]
  },
  {
   "cell_type": "code",
   "execution_count": null,
   "metadata": {},
   "outputs": [],
   "source": []
  }
 ],
 "metadata": {
  "kernelspec": {
   "display_name": "Python 3 (ipykernel)",
   "language": "python",
   "name": "python3"
  },
  "language_info": {
   "codemirror_mode": {
    "name": "ipython",
    "version": 3
   },
   "file_extension": ".py",
   "mimetype": "text/x-python",
   "name": "python",
   "nbconvert_exporter": "python",
   "pygments_lexer": "ipython3",
   "version": "3.9.12"
  }
 },
 "nbformat": 4,
 "nbformat_minor": 4
}
